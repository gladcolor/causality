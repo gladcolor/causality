{
 "cells": [
  {
   "cell_type": "markdown",
   "id": "f45f3bd1-d545-4662-9aef-242ccce651c4",
   "metadata": {},
   "source": [
    "# Install packages"
   ]
  },
  {
   "cell_type": "code",
   "execution_count": 223,
   "id": "a4b4fd85-abdf-4573-9da8-4c4dfd710b75",
   "metadata": {},
   "outputs": [],
   "source": [
    "# ! pip install pyvis\n",
    "# ! pip install networkx\n",
    "# ! pip install openai"
   ]
  },
  {
   "cell_type": "markdown",
   "id": "42cbeadb-c4e6-447b-9e86-17ecb344986f",
   "metadata": {},
   "source": [
    "# Import packages"
   ]
  },
  {
   "cell_type": "code",
   "execution_count": 224,
   "id": "a31b7f9e-7eed-4e39-9e5b-c7790d86a1db",
   "metadata": {},
   "outputs": [
    {
     "name": "stdout",
     "output_type": "stream",
     "text": [
      "The autoreload extension is already loaded. To reload it, use:\n",
      "  %reload_ext autoreload\n"
     ]
    }
   ],
   "source": [
    "import os\n",
    "import requests\n",
    "import networkx as nx\n",
    "import pandas as pd\n",
    "import geopandas as gpd\n",
    "from pyvis.network import Network\n",
    "from openai import OpenAI\n",
    "from IPython.display import display, HTML, Code\n",
    "from IPython.display import clear_output\n",
    "\n",
    "%load_ext autoreload\n",
    "%autoreload 2\n",
    "\n",
    "import Causal_Constants as constants\n",
    "import helper\n",
    "\n",
    "from Causal_kernel import Causal_graph"
   ]
  },
  {
   "cell_type": "markdown",
   "id": "008fdcdd-04a0-4f3e-8995-5893309d46a3",
   "metadata": {},
   "source": [
    "# Set up your research question  "
   ]
  },
  {
   "cell_type": "code",
   "execution_count": 225,
   "id": "c2a7b7e7-b985-4143-89d6-f03a5af97668",
   "metadata": {},
   "outputs": [],
   "source": [
    "# research_question = 'How higher education attainment affect income level?'\n",
    "# research_question = 'What factors will affect the flood susceptibility in United Arab Emirates? You need to consider the specific geograhpy there.'\n",
    "# research_question = 'What factors will affect the Autism prevalence?'\n",
    "# research_question = 'What factors will affect the HIV prevalence in the US?'  \n",
    "# research_question = 'What factors will affect the population count exposed Canada wildfire?'  \n",
    "# research_question = 'What factors will affect the obesity prevalence in USA?'  \n",
    "# research_question = 'What factors will affect the photogrammetric aerial sensor selection?'  \n",
    "# research_question = 'What factors will affect the cellphone tower site selection?'  \n",
    "# research_question = 'What factors will affect the COVID prevalence in China?'  \n",
    "# research_question = 'What factors will affect the suicide prevalence in the USA?'  \n",
    "research_question = 'What factors will affect the drub abuse in the USA?'  \n"
   ]
  },
  {
   "cell_type": "markdown",
   "id": "b3179f93-a536-4655-a24b-6c14fb7b9d4d",
   "metadata": {},
   "source": [
    "# Get the prompt"
   ]
  },
  {
   "cell_type": "markdown",
   "id": "d08578b3-e5dd-4058-868f-2bc5dd57fdc1",
   "metadata": {},
   "source": [
    "If you do not use OpenAI API, please copy the prompt to ChatGPT or other chatbox to get the reply."
   ]
  },
  {
   "cell_type": "code",
   "execution_count": 226,
   "id": "0024e8f1-8a8f-4286-b1d6-5191511c9c74",
   "metadata": {},
   "outputs": [
    {
     "name": "stdout",
     "output_type": "stream",
     "text": [
      "Research question summary: Factors Affecting Drug Abuse in USA\n"
     ]
    }
   ],
   "source": [
    "question_summary = ''  # The summary is used to create a folder to store resutls. It is also a identifier for the research question.\n",
    "# If you have not assign the question summary, this cell will use  GPT-4 API to generate a summary for the research question.\n",
    "\n",
    "if question_summary == \"\":\n",
    "    question_summary = helper.get_question_summary_from_LLM(question=research_question)\n",
    "\n",
    "\n",
    "print(\"Research question summary:\", question_summary)"
   ]
  },
  {
   "cell_type": "code",
   "execution_count": 227,
   "id": "6cac4ff8-0802-45f8-935a-bd0818ae65c5",
   "metadata": {},
   "outputs": [
    {
     "name": "stdout",
     "output_type": "stream",
     "text": [
      "Prompt to get the casual graph:\n",
      "\n",
      "Your role: A professional professor in both natural and socie science, and very good at Python programming. Your interest is to investigate the various phenomeno in an explainable way. You research the causal learning and Bayesian network more than 30 years, and know every detail and latest progress in this field. You have significant experenced on graph theory, application, and implementation. You are also experienced on critial variables in the causal graph.\n",
      " \n",
      "\n",
      "Your task: Generate a graph (data structure) only, whose nodes are a series of consecutive entities to answer the given research question, which is:  \n",
      " What factors will affect the drub abuse in the USA? \n",
      "\n",
      "Your reply needs to meet these requirements: \n",
      "1. Think step by step.\n",
      "2. Entities form a causal graph; the given entities is a sink node, the other nodes are direct or indirect causes.\n",
      "3. An entity can physical or non-physical, e.g., mountain, flood, ideology, orgnization, or policy.\n",
      "4. Carefully think of the causality between the entities, i.e., how the force causing change is transported from one entity to another entity. E.g., rainfall passes saturated drainage system then cause flood.\n",
      "5. Since the entities in the causal graph will be carefully investigated after creating the causal graph, such as collect data or conduct surveys, the provided entities need to be studies or have associated data.\n",
      "6. If one entities is given, create a causal graph that contains entities cause the given entieis.\n",
      "7. If several entities are given, create a causal graph contains these entities, but need to focus on the causality between the given entities, which means your need to find out the intermediate entities between the given entities, i.e., how one entity causes another. No need to find cause to the given entities.\n",
      "8. Consider the proxy entities if your think a entity is difficult to measure.\n",
      "9. You can ingore some unimportant causes, but do not ignore the critical cause, even these causes may seems insignificant to ordinary people.\n",
      "10. The provided causes should be very professional and scientific, using suitable terms in that research field.\n",
      "11. The causal graph is used for scientifica research and modeling for further explaination or prediction, so you need to try your best to make it accurate.\n",
      "12. The graph will be stored in NetworkX. Disconnected components are NOT allowed.\n",
      "13. You need to carefully name the nodes, making they human readable but not to long.\n",
      "14. The connection between two nodes is an edge.\n",
      "15. Add all nodes and edges to a NetworkX instance.\n",
      "16. Put your reply into a Python code block, NO explanation or conversation outside the code block(enclosed by ```python and ```).\n",
      "17. Note that GraphML writer does not support class dict or list as data values.\n",
      "18. Do not put the GraphML writing process as a step in the graph.\n",
      "19. Keep the graph concise, DO NOT use too many nodes.\n",
      "20. Save the network into GraphML format, save it at: D:\\OneDrive_PSU\\OneDrive - The Pennsylvania State University\\Research_doc\\Zero_law\\Python_code\\Results\\Factors Affecting Drug Abuse in USA\\Factors Affecting Drug Abuse in USA.graphml \n",
      "\n",
      "Your reply example: \n",
      "```python\n",
      "import networkx as nx\n",
      "G = nx.DiGraph()\n",
      "# Add nodes\n",
      "nodes = [\n",
      "    \"Heavy Rainfall\",\n",
      "    \"Snowmelt\",\n",
      "    \"Coastal Storm Surge\",\n",
      "    \"Dam or Levee Failure\",\n",
      "    \"River Overflow\",\n",
      "    \"Urban Drainage Basins\",\n",
      "    \"Land Use Changes\",\n",
      "    \"Soil Saturation\",\n",
      "    \"Urban Flooding\"\n",
      "]\n",
      "\n",
      "G.add_nodes_from(nodes)\n",
      "\n",
      "# Add edges to represent causal relationships\n",
      "edges = [\n",
      "    (\"Heavy Rainfall\", \"River Overflow\"),\n",
      "    (\"Snowmelt\", \"River Overflow\"),\n",
      "    (\"Coastal Storm Surge\", \"Urban Flooding\"),\n",
      "    (\"Dam or Levee Failure\", \"River Overflow\"),\n",
      "    (\"Dam or Levee Failure\", \"Urban Flooding\"),\n",
      "    (\"River Overflow\", \"Urban Flooding\"),\n",
      "    (\"Urban Drainage Basins\", \"Urban Flooding\"),\n",
      "    (\"Land Use Changes\", \"Urban Drainage Basins\"),\n",
      "    (\"Land Use Changes\", \"Soil Saturation\"),\n",
      "    (\"Soil Saturation\", \"River Overflow\"),\n",
      "    (\"Soil Saturation\", \"Urban Flooding\"),\n",
      "    (\"Heavy Rainfall\", \"Urban Flooding\")  \n",
      "]\n",
      "\n",
      "G.add_edges_from(edges)\n",
      "...\n",
      "```\n",
      " \n",
      "\n",
      "\n"
     ]
    }
   ],
   "source": [
    "save_dir = os.path.join(os.getcwd(), 'Results')\n",
    "os.makedirs(save_dir, exist_ok=True)\n",
    "\n",
    "# create graph\n",
    "# model=r\"gpt-4\"\n",
    "model = r'gpt-4-turbo-preview'\n",
    "causal = Causal_graph(\n",
    "                    question=research_question,\n",
    "                    question_summary=question_summary,\n",
    "                    save_dir=save_dir,\n",
    "                    model=model,\n",
    "                    )\n",
    "print(\"Prompt to get the casual graph:\\n\")\n",
    "print(causal.graph_prompt)"
   ]
  },
  {
   "cell_type": "markdown",
   "id": "358130c6-df7a-49f4-8fba-d9e2975a19d1",
   "metadata": {},
   "source": [
    "# Get GPT-4 reply by API"
   ]
  },
  {
   "cell_type": "code",
   "execution_count": 228,
   "id": "d1673b53-cd7c-49dd-87b4-ece076fd82d6",
   "metadata": {},
   "outputs": [
    {
     "data": {
      "text/html": [
       "<style>pre { line-height: 125%; }\n",
       "td.linenos .normal { color: inherit; background-color: transparent; padding-left: 5px; padding-right: 5px; }\n",
       "span.linenos { color: inherit; background-color: transparent; padding-left: 5px; padding-right: 5px; }\n",
       "td.linenos .special { color: #000000; background-color: #ffffc0; padding-left: 5px; padding-right: 5px; }\n",
       "span.linenos.special { color: #000000; background-color: #ffffc0; padding-left: 5px; padding-right: 5px; }\n",
       ".output_html .hll { background-color: #ffffcc }\n",
       ".output_html { background: #f8f8f8; }\n",
       ".output_html .c { color: #3D7B7B; font-style: italic } /* Comment */\n",
       ".output_html .err { border: 1px solid #FF0000 } /* Error */\n",
       ".output_html .k { color: #008000; font-weight: bold } /* Keyword */\n",
       ".output_html .o { color: #666666 } /* Operator */\n",
       ".output_html .ch { color: #3D7B7B; font-style: italic } /* Comment.Hashbang */\n",
       ".output_html .cm { color: #3D7B7B; font-style: italic } /* Comment.Multiline */\n",
       ".output_html .cp { color: #9C6500 } /* Comment.Preproc */\n",
       ".output_html .cpf { color: #3D7B7B; font-style: italic } /* Comment.PreprocFile */\n",
       ".output_html .c1 { color: #3D7B7B; font-style: italic } /* Comment.Single */\n",
       ".output_html .cs { color: #3D7B7B; font-style: italic } /* Comment.Special */\n",
       ".output_html .gd { color: #A00000 } /* Generic.Deleted */\n",
       ".output_html .ge { font-style: italic } /* Generic.Emph */\n",
       ".output_html .gr { color: #E40000 } /* Generic.Error */\n",
       ".output_html .gh { color: #000080; font-weight: bold } /* Generic.Heading */\n",
       ".output_html .gi { color: #008400 } /* Generic.Inserted */\n",
       ".output_html .go { color: #717171 } /* Generic.Output */\n",
       ".output_html .gp { color: #000080; font-weight: bold } /* Generic.Prompt */\n",
       ".output_html .gs { font-weight: bold } /* Generic.Strong */\n",
       ".output_html .gu { color: #800080; font-weight: bold } /* Generic.Subheading */\n",
       ".output_html .gt { color: #0044DD } /* Generic.Traceback */\n",
       ".output_html .kc { color: #008000; font-weight: bold } /* Keyword.Constant */\n",
       ".output_html .kd { color: #008000; font-weight: bold } /* Keyword.Declaration */\n",
       ".output_html .kn { color: #008000; font-weight: bold } /* Keyword.Namespace */\n",
       ".output_html .kp { color: #008000 } /* Keyword.Pseudo */\n",
       ".output_html .kr { color: #008000; font-weight: bold } /* Keyword.Reserved */\n",
       ".output_html .kt { color: #B00040 } /* Keyword.Type */\n",
       ".output_html .m { color: #666666 } /* Literal.Number */\n",
       ".output_html .s { color: #BA2121 } /* Literal.String */\n",
       ".output_html .na { color: #687822 } /* Name.Attribute */\n",
       ".output_html .nb { color: #008000 } /* Name.Builtin */\n",
       ".output_html .nc { color: #0000FF; font-weight: bold } /* Name.Class */\n",
       ".output_html .no { color: #880000 } /* Name.Constant */\n",
       ".output_html .nd { color: #AA22FF } /* Name.Decorator */\n",
       ".output_html .ni { color: #717171; font-weight: bold } /* Name.Entity */\n",
       ".output_html .ne { color: #CB3F38; font-weight: bold } /* Name.Exception */\n",
       ".output_html .nf { color: #0000FF } /* Name.Function */\n",
       ".output_html .nl { color: #767600 } /* Name.Label */\n",
       ".output_html .nn { color: #0000FF; font-weight: bold } /* Name.Namespace */\n",
       ".output_html .nt { color: #008000; font-weight: bold } /* Name.Tag */\n",
       ".output_html .nv { color: #19177C } /* Name.Variable */\n",
       ".output_html .ow { color: #AA22FF; font-weight: bold } /* Operator.Word */\n",
       ".output_html .w { color: #bbbbbb } /* Text.Whitespace */\n",
       ".output_html .mb { color: #666666 } /* Literal.Number.Bin */\n",
       ".output_html .mf { color: #666666 } /* Literal.Number.Float */\n",
       ".output_html .mh { color: #666666 } /* Literal.Number.Hex */\n",
       ".output_html .mi { color: #666666 } /* Literal.Number.Integer */\n",
       ".output_html .mo { color: #666666 } /* Literal.Number.Oct */\n",
       ".output_html .sa { color: #BA2121 } /* Literal.String.Affix */\n",
       ".output_html .sb { color: #BA2121 } /* Literal.String.Backtick */\n",
       ".output_html .sc { color: #BA2121 } /* Literal.String.Char */\n",
       ".output_html .dl { color: #BA2121 } /* Literal.String.Delimiter */\n",
       ".output_html .sd { color: #BA2121; font-style: italic } /* Literal.String.Doc */\n",
       ".output_html .s2 { color: #BA2121 } /* Literal.String.Double */\n",
       ".output_html .se { color: #AA5D1F; font-weight: bold } /* Literal.String.Escape */\n",
       ".output_html .sh { color: #BA2121 } /* Literal.String.Heredoc */\n",
       ".output_html .si { color: #A45A77; font-weight: bold } /* Literal.String.Interpol */\n",
       ".output_html .sx { color: #008000 } /* Literal.String.Other */\n",
       ".output_html .sr { color: #A45A77 } /* Literal.String.Regex */\n",
       ".output_html .s1 { color: #BA2121 } /* Literal.String.Single */\n",
       ".output_html .ss { color: #19177C } /* Literal.String.Symbol */\n",
       ".output_html .bp { color: #008000 } /* Name.Builtin.Pseudo */\n",
       ".output_html .fm { color: #0000FF } /* Name.Function.Magic */\n",
       ".output_html .vc { color: #19177C } /* Name.Variable.Class */\n",
       ".output_html .vg { color: #19177C } /* Name.Variable.Global */\n",
       ".output_html .vi { color: #19177C } /* Name.Variable.Instance */\n",
       ".output_html .vm { color: #19177C } /* Name.Variable.Magic */\n",
       ".output_html .il { color: #666666 } /* Literal.Number.Integer.Long */</style><div class=\"highlight\"><pre><span></span><span class=\"kn\">import</span> <span class=\"nn\">networkx</span> <span class=\"k\">as</span> <span class=\"nn\">nx</span>\n",
       "\n",
       "<span class=\"n\">G</span> <span class=\"o\">=</span> <span class=\"n\">nx</span><span class=\"o\">.</span><span class=\"n\">DiGraph</span><span class=\"p\">()</span>\n",
       "\n",
       "<span class=\"c1\"># Add nodes</span>\n",
       "<span class=\"n\">nodes</span> <span class=\"o\">=</span> <span class=\"p\">[</span>\n",
       "    <span class=\"s2\">&quot;Socioeconomic Status&quot;</span><span class=\"p\">,</span>\n",
       "    <span class=\"s2\">&quot;Mental Health Issues&quot;</span><span class=\"p\">,</span>\n",
       "    <span class=\"s2\">&quot;Genetic Predisposition&quot;</span><span class=\"p\">,</span>\n",
       "    <span class=\"s2\">&quot;Peer Pressure&quot;</span><span class=\"p\">,</span>\n",
       "    <span class=\"s2\">&quot;Availability of Drugs&quot;</span><span class=\"p\">,</span>\n",
       "    <span class=\"s2\">&quot;Law Enforcement Policies&quot;</span><span class=\"p\">,</span>\n",
       "    <span class=\"s2\">&quot;Public Education on Drug Abuse&quot;</span><span class=\"p\">,</span>\n",
       "    <span class=\"s2\">&quot;Healthcare Access&quot;</span><span class=\"p\">,</span>\n",
       "    <span class=\"s2\">&quot;Employment Status&quot;</span><span class=\"p\">,</span>\n",
       "    <span class=\"s2\">&quot;Cultural Norms&quot;</span><span class=\"p\">,</span>\n",
       "    <span class=\"s2\">&quot;Drug Abuse&quot;</span>\n",
       "<span class=\"p\">]</span>\n",
       "\n",
       "<span class=\"n\">G</span><span class=\"o\">.</span><span class=\"n\">add_nodes_from</span><span class=\"p\">(</span><span class=\"n\">nodes</span><span class=\"p\">)</span>\n",
       "\n",
       "<span class=\"c1\"># Add edges to represent causal relationships</span>\n",
       "<span class=\"n\">edges</span> <span class=\"o\">=</span> <span class=\"p\">[</span>\n",
       "    <span class=\"p\">(</span><span class=\"s2\">&quot;Socioeconomic Status&quot;</span><span class=\"p\">,</span> <span class=\"s2\">&quot;Mental Health Issues&quot;</span><span class=\"p\">),</span>\n",
       "    <span class=\"p\">(</span><span class=\"s2\">&quot;Socioeconomic Status&quot;</span><span class=\"p\">,</span> <span class=\"s2\">&quot;Peer Pressure&quot;</span><span class=\"p\">),</span>\n",
       "    <span class=\"p\">(</span><span class=\"s2\">&quot;Socioeconomic Status&quot;</span><span class=\"p\">,</span> <span class=\"s2\">&quot;Availability of Drugs&quot;</span><span class=\"p\">),</span>\n",
       "    <span class=\"p\">(</span><span class=\"s2\">&quot;Socioeconomic Status&quot;</span><span class=\"p\">,</span> <span class=\"s2\">&quot;Employment Status&quot;</span><span class=\"p\">),</span>\n",
       "    <span class=\"p\">(</span><span class=\"s2\">&quot;Mental Health Issues&quot;</span><span class=\"p\">,</span> <span class=\"s2\">&quot;Drug Abuse&quot;</span><span class=\"p\">),</span>\n",
       "    <span class=\"p\">(</span><span class=\"s2\">&quot;Genetic Predisposition&quot;</span><span class=\"p\">,</span> <span class=\"s2\">&quot;Drug Abuse&quot;</span><span class=\"p\">),</span>\n",
       "    <span class=\"p\">(</span><span class=\"s2\">&quot;Peer Pressure&quot;</span><span class=\"p\">,</span> <span class=\"s2\">&quot;Drug Abuse&quot;</span><span class=\"p\">),</span>\n",
       "    <span class=\"p\">(</span><span class=\"s2\">&quot;Availability of Drugs&quot;</span><span class=\"p\">,</span> <span class=\"s2\">&quot;Drug Abuse&quot;</span><span class=\"p\">),</span>\n",
       "    <span class=\"p\">(</span><span class=\"s2\">&quot;Law Enforcement Policies&quot;</span><span class=\"p\">,</span> <span class=\"s2\">&quot;Availability of Drugs&quot;</span><span class=\"p\">),</span>\n",
       "    <span class=\"p\">(</span><span class=\"s2\">&quot;Public Education on Drug Abuse&quot;</span><span class=\"p\">,</span> <span class=\"s2\">&quot;Drug Abuse&quot;</span><span class=\"p\">),</span>\n",
       "    <span class=\"p\">(</span><span class=\"s2\">&quot;Healthcare Access&quot;</span><span class=\"p\">,</span> <span class=\"s2\">&quot;Mental Health Issues&quot;</span><span class=\"p\">),</span>\n",
       "    <span class=\"p\">(</span><span class=\"s2\">&quot;Employment Status&quot;</span><span class=\"p\">,</span> <span class=\"s2\">&quot;Mental Health Issues&quot;</span><span class=\"p\">),</span>\n",
       "    <span class=\"p\">(</span><span class=\"s2\">&quot;Cultural Norms&quot;</span><span class=\"p\">,</span> <span class=\"s2\">&quot;Drug Abuse&quot;</span><span class=\"p\">)</span>\n",
       "<span class=\"p\">]</span>\n",
       "\n",
       "<span class=\"n\">G</span><span class=\"o\">.</span><span class=\"n\">add_edges_from</span><span class=\"p\">(</span><span class=\"n\">edges</span><span class=\"p\">)</span>\n",
       "\n",
       "<span class=\"c1\"># Save the graph</span>\n",
       "<span class=\"n\">nx</span><span class=\"o\">.</span><span class=\"n\">write_graphml</span><span class=\"p\">(</span><span class=\"n\">G</span><span class=\"p\">,</span> <span class=\"sa\">r</span><span class=\"s2\">&quot;D:\\OneDrive_PSU\\OneDrive - The Pennsylvania State University\\Research_doc\\Zero_law\\Python_code\\Results\\Factors Affecting Drug Abuse in USA\\Factors Affecting Drug Abuse in USA.graphml&quot;</span><span class=\"p\">)</span>\n",
       "</pre></div>\n"
      ],
      "text/latex": [
       "\\begin{Verbatim}[commandchars=\\\\\\{\\}]\n",
       "\\PY{k+kn}{import} \\PY{n+nn}{networkx} \\PY{k}{as} \\PY{n+nn}{nx}\n",
       "\n",
       "\\PY{n}{G} \\PY{o}{=} \\PY{n}{nx}\\PY{o}{.}\\PY{n}{DiGraph}\\PY{p}{(}\\PY{p}{)}\n",
       "\n",
       "\\PY{c+c1}{\\PYZsh{} Add nodes}\n",
       "\\PY{n}{nodes} \\PY{o}{=} \\PY{p}{[}\n",
       "    \\PY{l+s+s2}{\\PYZdq{}}\\PY{l+s+s2}{Socioeconomic Status}\\PY{l+s+s2}{\\PYZdq{}}\\PY{p}{,}\n",
       "    \\PY{l+s+s2}{\\PYZdq{}}\\PY{l+s+s2}{Mental Health Issues}\\PY{l+s+s2}{\\PYZdq{}}\\PY{p}{,}\n",
       "    \\PY{l+s+s2}{\\PYZdq{}}\\PY{l+s+s2}{Genetic Predisposition}\\PY{l+s+s2}{\\PYZdq{}}\\PY{p}{,}\n",
       "    \\PY{l+s+s2}{\\PYZdq{}}\\PY{l+s+s2}{Peer Pressure}\\PY{l+s+s2}{\\PYZdq{}}\\PY{p}{,}\n",
       "    \\PY{l+s+s2}{\\PYZdq{}}\\PY{l+s+s2}{Availability of Drugs}\\PY{l+s+s2}{\\PYZdq{}}\\PY{p}{,}\n",
       "    \\PY{l+s+s2}{\\PYZdq{}}\\PY{l+s+s2}{Law Enforcement Policies}\\PY{l+s+s2}{\\PYZdq{}}\\PY{p}{,}\n",
       "    \\PY{l+s+s2}{\\PYZdq{}}\\PY{l+s+s2}{Public Education on Drug Abuse}\\PY{l+s+s2}{\\PYZdq{}}\\PY{p}{,}\n",
       "    \\PY{l+s+s2}{\\PYZdq{}}\\PY{l+s+s2}{Healthcare Access}\\PY{l+s+s2}{\\PYZdq{}}\\PY{p}{,}\n",
       "    \\PY{l+s+s2}{\\PYZdq{}}\\PY{l+s+s2}{Employment Status}\\PY{l+s+s2}{\\PYZdq{}}\\PY{p}{,}\n",
       "    \\PY{l+s+s2}{\\PYZdq{}}\\PY{l+s+s2}{Cultural Norms}\\PY{l+s+s2}{\\PYZdq{}}\\PY{p}{,}\n",
       "    \\PY{l+s+s2}{\\PYZdq{}}\\PY{l+s+s2}{Drug Abuse}\\PY{l+s+s2}{\\PYZdq{}}\n",
       "\\PY{p}{]}\n",
       "\n",
       "\\PY{n}{G}\\PY{o}{.}\\PY{n}{add\\PYZus{}nodes\\PYZus{}from}\\PY{p}{(}\\PY{n}{nodes}\\PY{p}{)}\n",
       "\n",
       "\\PY{c+c1}{\\PYZsh{} Add edges to represent causal relationships}\n",
       "\\PY{n}{edges} \\PY{o}{=} \\PY{p}{[}\n",
       "    \\PY{p}{(}\\PY{l+s+s2}{\\PYZdq{}}\\PY{l+s+s2}{Socioeconomic Status}\\PY{l+s+s2}{\\PYZdq{}}\\PY{p}{,} \\PY{l+s+s2}{\\PYZdq{}}\\PY{l+s+s2}{Mental Health Issues}\\PY{l+s+s2}{\\PYZdq{}}\\PY{p}{)}\\PY{p}{,}\n",
       "    \\PY{p}{(}\\PY{l+s+s2}{\\PYZdq{}}\\PY{l+s+s2}{Socioeconomic Status}\\PY{l+s+s2}{\\PYZdq{}}\\PY{p}{,} \\PY{l+s+s2}{\\PYZdq{}}\\PY{l+s+s2}{Peer Pressure}\\PY{l+s+s2}{\\PYZdq{}}\\PY{p}{)}\\PY{p}{,}\n",
       "    \\PY{p}{(}\\PY{l+s+s2}{\\PYZdq{}}\\PY{l+s+s2}{Socioeconomic Status}\\PY{l+s+s2}{\\PYZdq{}}\\PY{p}{,} \\PY{l+s+s2}{\\PYZdq{}}\\PY{l+s+s2}{Availability of Drugs}\\PY{l+s+s2}{\\PYZdq{}}\\PY{p}{)}\\PY{p}{,}\n",
       "    \\PY{p}{(}\\PY{l+s+s2}{\\PYZdq{}}\\PY{l+s+s2}{Socioeconomic Status}\\PY{l+s+s2}{\\PYZdq{}}\\PY{p}{,} \\PY{l+s+s2}{\\PYZdq{}}\\PY{l+s+s2}{Employment Status}\\PY{l+s+s2}{\\PYZdq{}}\\PY{p}{)}\\PY{p}{,}\n",
       "    \\PY{p}{(}\\PY{l+s+s2}{\\PYZdq{}}\\PY{l+s+s2}{Mental Health Issues}\\PY{l+s+s2}{\\PYZdq{}}\\PY{p}{,} \\PY{l+s+s2}{\\PYZdq{}}\\PY{l+s+s2}{Drug Abuse}\\PY{l+s+s2}{\\PYZdq{}}\\PY{p}{)}\\PY{p}{,}\n",
       "    \\PY{p}{(}\\PY{l+s+s2}{\\PYZdq{}}\\PY{l+s+s2}{Genetic Predisposition}\\PY{l+s+s2}{\\PYZdq{}}\\PY{p}{,} \\PY{l+s+s2}{\\PYZdq{}}\\PY{l+s+s2}{Drug Abuse}\\PY{l+s+s2}{\\PYZdq{}}\\PY{p}{)}\\PY{p}{,}\n",
       "    \\PY{p}{(}\\PY{l+s+s2}{\\PYZdq{}}\\PY{l+s+s2}{Peer Pressure}\\PY{l+s+s2}{\\PYZdq{}}\\PY{p}{,} \\PY{l+s+s2}{\\PYZdq{}}\\PY{l+s+s2}{Drug Abuse}\\PY{l+s+s2}{\\PYZdq{}}\\PY{p}{)}\\PY{p}{,}\n",
       "    \\PY{p}{(}\\PY{l+s+s2}{\\PYZdq{}}\\PY{l+s+s2}{Availability of Drugs}\\PY{l+s+s2}{\\PYZdq{}}\\PY{p}{,} \\PY{l+s+s2}{\\PYZdq{}}\\PY{l+s+s2}{Drug Abuse}\\PY{l+s+s2}{\\PYZdq{}}\\PY{p}{)}\\PY{p}{,}\n",
       "    \\PY{p}{(}\\PY{l+s+s2}{\\PYZdq{}}\\PY{l+s+s2}{Law Enforcement Policies}\\PY{l+s+s2}{\\PYZdq{}}\\PY{p}{,} \\PY{l+s+s2}{\\PYZdq{}}\\PY{l+s+s2}{Availability of Drugs}\\PY{l+s+s2}{\\PYZdq{}}\\PY{p}{)}\\PY{p}{,}\n",
       "    \\PY{p}{(}\\PY{l+s+s2}{\\PYZdq{}}\\PY{l+s+s2}{Public Education on Drug Abuse}\\PY{l+s+s2}{\\PYZdq{}}\\PY{p}{,} \\PY{l+s+s2}{\\PYZdq{}}\\PY{l+s+s2}{Drug Abuse}\\PY{l+s+s2}{\\PYZdq{}}\\PY{p}{)}\\PY{p}{,}\n",
       "    \\PY{p}{(}\\PY{l+s+s2}{\\PYZdq{}}\\PY{l+s+s2}{Healthcare Access}\\PY{l+s+s2}{\\PYZdq{}}\\PY{p}{,} \\PY{l+s+s2}{\\PYZdq{}}\\PY{l+s+s2}{Mental Health Issues}\\PY{l+s+s2}{\\PYZdq{}}\\PY{p}{)}\\PY{p}{,}\n",
       "    \\PY{p}{(}\\PY{l+s+s2}{\\PYZdq{}}\\PY{l+s+s2}{Employment Status}\\PY{l+s+s2}{\\PYZdq{}}\\PY{p}{,} \\PY{l+s+s2}{\\PYZdq{}}\\PY{l+s+s2}{Mental Health Issues}\\PY{l+s+s2}{\\PYZdq{}}\\PY{p}{)}\\PY{p}{,}\n",
       "    \\PY{p}{(}\\PY{l+s+s2}{\\PYZdq{}}\\PY{l+s+s2}{Cultural Norms}\\PY{l+s+s2}{\\PYZdq{}}\\PY{p}{,} \\PY{l+s+s2}{\\PYZdq{}}\\PY{l+s+s2}{Drug Abuse}\\PY{l+s+s2}{\\PYZdq{}}\\PY{p}{)}\n",
       "\\PY{p}{]}\n",
       "\n",
       "\\PY{n}{G}\\PY{o}{.}\\PY{n}{add\\PYZus{}edges\\PYZus{}from}\\PY{p}{(}\\PY{n}{edges}\\PY{p}{)}\n",
       "\n",
       "\\PY{c+c1}{\\PYZsh{} Save the graph}\n",
       "\\PY{n}{nx}\\PY{o}{.}\\PY{n}{write\\PYZus{}graphml}\\PY{p}{(}\\PY{n}{G}\\PY{p}{,} \\PY{l+s+sa}{r}\\PY{l+s+s2}{\\PYZdq{}}\\PY{l+s+s2}{D:}\\PY{l+s+s2}{\\PYZbs{}}\\PY{l+s+s2}{OneDrive\\PYZus{}PSU}\\PY{l+s+s2}{\\PYZbs{}}\\PY{l+s+s2}{OneDrive \\PYZhy{} The Pennsylvania State University}\\PY{l+s+s2}{\\PYZbs{}}\\PY{l+s+s2}{Research\\PYZus{}doc}\\PY{l+s+s2}{\\PYZbs{}}\\PY{l+s+s2}{Zero\\PYZus{}law}\\PY{l+s+s2}{\\PYZbs{}}\\PY{l+s+s2}{Python\\PYZus{}code}\\PY{l+s+s2}{\\PYZbs{}}\\PY{l+s+s2}{Results}\\PY{l+s+s2}{\\PYZbs{}}\\PY{l+s+s2}{Factors Affecting Drug Abuse in USA}\\PY{l+s+s2}{\\PYZbs{}}\\PY{l+s+s2}{Factors Affecting Drug Abuse in USA.graphml}\\PY{l+s+s2}{\\PYZdq{}}\\PY{p}{)}\n",
       "\\end{Verbatim}\n"
      ],
      "text/plain": [
       "import networkx as nx\n",
       "\n",
       "G = nx.DiGraph()\n",
       "\n",
       "# Add nodes\n",
       "nodes = [\n",
       "    \"Socioeconomic Status\",\n",
       "    \"Mental Health Issues\",\n",
       "    \"Genetic Predisposition\",\n",
       "    \"Peer Pressure\",\n",
       "    \"Availability of Drugs\",\n",
       "    \"Law Enforcement Policies\",\n",
       "    \"Public Education on Drug Abuse\",\n",
       "    \"Healthcare Access\",\n",
       "    \"Employment Status\",\n",
       "    \"Cultural Norms\",\n",
       "    \"Drug Abuse\"\n",
       "]\n",
       "\n",
       "G.add_nodes_from(nodes)\n",
       "\n",
       "# Add edges to represent causal relationships\n",
       "edges = [\n",
       "    (\"Socioeconomic Status\", \"Mental Health Issues\"),\n",
       "    (\"Socioeconomic Status\", \"Peer Pressure\"),\n",
       "    (\"Socioeconomic Status\", \"Availability of Drugs\"),\n",
       "    (\"Socioeconomic Status\", \"Employment Status\"),\n",
       "    (\"Mental Health Issues\", \"Drug Abuse\"),\n",
       "    (\"Genetic Predisposition\", \"Drug Abuse\"),\n",
       "    (\"Peer Pressure\", \"Drug Abuse\"),\n",
       "    (\"Availability of Drugs\", \"Drug Abuse\"),\n",
       "    (\"Law Enforcement Policies\", \"Availability of Drugs\"),\n",
       "    (\"Public Education on Drug Abuse\", \"Drug Abuse\"),\n",
       "    (\"Healthcare Access\", \"Mental Health Issues\"),\n",
       "    (\"Employment Status\", \"Mental Health Issues\"),\n",
       "    (\"Cultural Norms\", \"Drug Abuse\")\n",
       "]\n",
       "\n",
       "G.add_edges_from(edges)\n",
       "\n",
       "# Save the graph\n",
       "nx.write_graphml(G, r\"D:\\OneDrive_PSU\\OneDrive - The Pennsylvania State University\\Research_doc\\Zero_law\\Python_code\\Results\\Factors Affecting Drug Abuse in USA\\Factors Affecting Drug Abuse in USA.graphml\")"
      ]
     },
     "metadata": {},
     "output_type": "display_data"
    }
   ],
   "source": [
    "response_for_graph = causal.get_LLM_response_for_graph() \n",
    "causal.graph_response = response_for_graph\n",
    "# causal.save_graph()\n",
    "\n",
    "clear_output(wait=True)\n",
    "display(Code(causal.code_for_graph, language='python'))"
   ]
  },
  {
   "cell_type": "markdown",
   "id": "5a16aa3e-d0e7-4a94-ab78-9aa7c7a7a707",
   "metadata": {},
   "source": [
    "# Show the graph from API"
   ]
  },
  {
   "cell_type": "code",
   "execution_count": 229,
   "id": "dc9bcacc-9703-41a8-8625-638de88d4d49",
   "metadata": {},
   "outputs": [
    {
     "name": "stdout",
     "output_type": "stream",
     "text": [
      "D:\\OneDrive_PSU\\OneDrive - The Pennsylvania State University\\Research_doc\\Zero_law\\Python_code\\Results\\Factors Affecting Drug Abuse in USA\\Factors Affecting Drug Abuse in USA.html\n"
     ]
    },
    {
     "data": {
      "text/html": [
       "\n",
       "        <iframe\n",
       "            width=\"100%\"\n",
       "            height=\"800px\"\n",
       "            src=\"D:\\OneDrive_PSU\\OneDrive - The Pennsylvania State University\\Research_doc\\Zero_law\\Python_code\\Results\\Factors Affecting Drug Abuse in USA\\Factors Affecting Drug Abuse in USA.html\"\n",
       "            frameborder=\"0\"\n",
       "            allowfullscreen\n",
       "            \n",
       "        ></iframe>\n",
       "        "
      ],
      "text/plain": [
       "<IPython.lib.display.IFrame at 0x150d7e119d0>"
      ]
     },
     "execution_count": 229,
     "metadata": {},
     "output_type": "execute_result"
    }
   ],
   "source": [
    "# Show the graph\n",
    "exec(causal.code_for_graph)\n",
    "causal_graph = causal.load_graph_file()\n",
    "\n",
    "# Show the graph\n",
    "G = nx.read_graphml(causal.graph_file)  \n",
    "nt = helper.show_graph(G)\n",
    "html_name = os.path.join(causal.save_dir, causal.question_summary + '.html')  \n",
    "# HTML file should in the same directory. See:\n",
    "# https://stackoverflow.com/questions/65564916/error-displaying-pyvis-html-inside-jupyter-lab-cell\n",
    "nt.show(name=html_name)"
   ]
  },
  {
   "cell_type": "code",
   "execution_count": 230,
   "id": "0dad0ee8-abb5-4863-9e32-6e82ac19a433",
   "metadata": {},
   "outputs": [
    {
     "ename": "NameError",
     "evalue": "name 'STOP' is not defined",
     "output_type": "error",
     "traceback": [
      "\u001b[1;31m---------------------------------------------------------------------------\u001b[0m",
      "\u001b[1;31mNameError\u001b[0m                                 Traceback (most recent call last)",
      "Cell \u001b[1;32mIn[230], line 1\u001b[0m\n\u001b[1;32m----> 1\u001b[0m STOP\n",
      "\u001b[1;31mNameError\u001b[0m: name 'STOP' is not defined"
     ]
    }
   ],
   "source": [
    "STOP"
   ]
  },
  {
   "cell_type": "markdown",
   "id": "91d9c634-92d2-46f8-980e-89284fe382a3",
   "metadata": {},
   "source": [
    "# Show the graph from chatbox"
   ]
  },
  {
   "cell_type": "markdown",
   "id": "9906078c-2541-4099-b123-cb1f15abbec3",
   "metadata": {},
   "source": [
    "If you get graph from the chatbox, paste the code of nodes and edges below."
   ]
  },
  {
   "cell_type": "code",
   "execution_count": null,
   "id": "1dbd585c-f039-4b21-a21b-0c142230949c",
   "metadata": {},
   "outputs": [],
   "source": [
    "import networkx as nx\n",
    "G = nx.DiGraph()"
   ]
  },
  {
   "cell_type": "markdown",
   "id": "2899aa86-a191-4367-ada1-40867d231415",
   "metadata": {},
   "source": [
    "## Paste your code below:"
   ]
  },
  {
   "cell_type": "code",
   "execution_count": null,
   "id": "89a7e463-9180-4ca1-88fe-f39aad9b8fb7",
   "metadata": {},
   "outputs": [],
   "source": [
    "# Add nodes related to the cellphone tower site selection\n",
    "nodes = [\n",
    "    \"Population Density\",\n",
    "    \"Urban Planning Policies\",\n",
    "    \"Topography\",\n",
    "    \"Existing Infrastructure\",\n",
    "    \"Wireless Signal Coverage\",\n",
    "    \"Environmental Impact\",\n",
    "    \"Economic Considerations\",\n",
    "    \"Legal Restrictions\",\n",
    "    \"Public Opinion\",\n",
    "    \"Technology Standards\",\n",
    "    \"Cellphone Tower Site Selection\"\n",
    "]\n",
    "\n",
    "G.add_nodes_from(nodes)\n",
    "\n",
    "# Add edges to represent causal relationships\n",
    "edges = [\n",
    "    (\"Population Density\", \"Wireless Signal Coverage\"),\n",
    "    (\"Urban Planning Policies\", \"Legal Restrictions\"),\n",
    "    (\"Urban Planning Policies\", \"Economic Considerations\"),\n",
    "    (\"Topography\", \"Wireless Signal Coverage\"),\n",
    "    (\"Topography\", \"Environmental Impact\"),\n",
    "    (\"Existing Infrastructure\", \"Wireless Signal Coverage\"),\n",
    "    (\"Existing Infrastructure\", \"Economic Considerations\"),\n",
    "    (\"Wireless Signal Coverage\", \"Cellphone Tower Site Selection\"),\n",
    "    (\"Environmental Impact\", \"Cellphone Tower Site Selection\"),\n",
    "    (\"Economic Considerations\", \"Cellphone Tower Site Selection\"),\n",
    "    (\"Legal Restrictions\", \"Cellphone Tower Site Selection\"),\n",
    "    (\"Public Opinion\", \"Cellphone Tower Site Selection\"),\n",
    "    (\"Technology Standards\", \"Wireless Signal Coverage\")\n",
    "]\n",
    "\n",
    "G.add_edges_from(edges)"
   ]
  },
  {
   "cell_type": "markdown",
   "id": "b004ab36-f9f6-4d2e-a278-58482b05aeaa",
   "metadata": {},
   "source": [
    "## Show the graph"
   ]
  },
  {
   "cell_type": "code",
   "execution_count": null,
   "id": "ba23bf69-a598-49d1-8a5c-40a524f068ce",
   "metadata": {},
   "outputs": [],
   "source": [
    "G = nx.read_graphml(causal.graph_file)  \n",
    "nt = helper.show_graph(G)\n",
    "html_name = os.path.join(os.getcwd(), \"_\".join(phenomena) + '.html')  \n",
    "# HTML file should in the same directory. See:\n",
    "# https://stackoverflow.com/questions/65564916/error-displaying-pyvis-html-inside-jupyter-lab-cell\n",
    "nt.show(name=html_name)"
   ]
  }
 ],
 "metadata": {
  "kernelspec": {
   "display_name": "llm_geo",
   "language": "python",
   "name": "llm_geo"
  },
  "language_info": {
   "codemirror_mode": {
    "name": "ipython",
    "version": 3
   },
   "file_extension": ".py",
   "mimetype": "text/x-python",
   "name": "python",
   "nbconvert_exporter": "python",
   "pygments_lexer": "ipython3",
   "version": "3.11.5"
  }
 },
 "nbformat": 4,
 "nbformat_minor": 5
}
